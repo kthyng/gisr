{
 "metadata": {
  "name": "all_f"
 },
 "nbformat": 3,
 "nbformat_minor": 0,
 "worksheets": [
  {
   "cells": [
    {
     "cell_type": "code",
     "collapsed": false,
     "input": [
      "# Turning on inline plots -- just for use in ipython notebooks.\n",
      "%pylab inline"
     ],
     "language": "python",
     "metadata": {},
     "outputs": [
      {
       "output_type": "stream",
       "stream": "stdout",
       "text": [
        "\n",
        "Welcome to pylab, a matplotlib-based Python environment [backend: module://IPython.zmq.pylab.backend_inline].\n",
        "For more information, type 'help(pylab)'.\n"
       ]
      }
     ],
     "prompt_number": 1
    },
    {
     "cell_type": "markdown",
     "metadata": {},
     "source": [
      "#All Forward: running drifters from through the TX-LA model domain forward in time\n",
      "Kristen Thyng, September 2013\n",
      "\n",
      "Numerical drifters are simulated from throughout the numerical model domain forward in time in 2006 for a month during the summer (July) and a month during the winter (February, to align with Zhaoru's shelf convergence work) for y days, and behavior is compared. Drifters are started once a day every 4 grid cells in x and y.\n",
      "\n",
      "A parameterization of subgrid scale motion is implemented via the fluxes (`doturb=1`) and a horizontal diffusivity of $A_H=20$ m$^2$/s is used.\n",
      "\n",
      "Results are not currently available online because pong is not currently NFS connected with hafen, but the [project](https://github.com/kthyng/gisr/blob/master/projects/all_f.py) is on github."
     ]
    },
    {
     "cell_type": "markdown",
     "metadata": {},
     "source": [
      "##Sample Results\n",
      "\n",
      "Sample tracks and transport plots from a week-long simulation are shown below. Clearly, the majority of the transport is occurring on the outer shelf, due to loop current eddies. The transport highlights structures in the flow. Most of the plots show little cross-shelf transport, but there is some and an example was chosen from July 2006 to illustrate the behavior in the transport plot.\n",
      "\n",
      "### February 2006 \n",
      "\n",
      "<img src=\"files/2006-02-02T00tracks.png\" width=\"35%\" />\n",
      "<img src=\"files/2006-02-02T00transport.png\" width=\"35%\" />\n",
      "\n",
      "### July 2006 \n",
      "\n",
      "<img src=\"files/2006-07-24T00tracks.png\" width=\"35%\" />\n",
      "<img src=\"files/2006-07-24T00transport.png\" width=\"35%\" />\n",
      "\n",
      "\n",
      "##Overall Transport\n",
      "\n",
      "###February and July 2006\n",
      "<img src=\"files/2006-02transport.png\" width=\"35%\" />\n",
      "<img src=\"files/2006-07transport.png\" width=\"35%\" />\n",
      "\n",
      "##Focus on Cross-Shelf Transport\n",
      "\n",
      "###February and July 2006\n",
      "There is a little cross-shelf transport visible near the Mississippi canyon in February 2006, but otherwise not too much. However, in July 2006, there is cross-shelf transport near the Mississippi canyon, the Mississippi delta, and along the Texas shelf from near Port Aransas to Galveston, which corresponds pretty well to the area Zhaoru described in her paper of where convergence zones tend to occur (though note that here it is in the summer).\n",
      "\n",
      "<img src=\"files/2006-02dmax_pt1transport.png\" width=\"35%\" />\n",
      "<img src=\"files/2006-07dmax_pt1transport.png\" width=\"35%\" />\n"
     ]
    },
    {
     "cell_type": "code",
     "collapsed": false,
     "input": [],
     "language": "python",
     "metadata": {},
     "outputs": []
    }
   ],
   "metadata": {}
  }
 ]
}