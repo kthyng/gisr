{
 "metadata": {
  "name": "all_f"
 },
 "nbformat": 3,
 "nbformat_minor": 0,
 "worksheets": [
  {
   "cells": [
    {
     "cell_type": "code",
     "collapsed": false,
     "input": [
      "# Turning on inline plots -- just for use in ipython notebooks.\n",
      "%pylab inline"
     ],
     "language": "python",
     "metadata": {},
     "outputs": [
      {
       "output_type": "stream",
       "stream": "stdout",
       "text": [
        "\n",
        "Welcome to pylab, a matplotlib-based Python environment [backend: module://IPython.zmq.pylab.backend_inline].\n",
        "For more information, type 'help(pylab)'.\n"
       ]
      }
     ],
     "prompt_number": 1
    },
    {
     "cell_type": "markdown",
     "metadata": {},
     "source": [
      "#All Forward: running drifters from through the TX-LA model domain forward in time\n",
      "Kristen Thyng, September 2013\n",
      "\n",
      "Numerical drifters are simulated from throughout the numerical model domain forward in time in 2006 for a month during the summer (July) and a month during the winter (February, to align with Zhaoru's shelf convergence work) for y days, and behavior is compared. Drifters are started once a day every 4 grid cells in x and y.\n",
      "\n",
      "A parameterization of subgrid scale motion is implemented via the fluxes (`doturb=1`) and a horizontal diffusivity of $A_H=20$ m$^2$/s is used.\n",
      "\n",
      "Results are not currently available online because pong is not currently NFS connected with hafen, but the [project](https://github.com/kthyng/gisr/blob/master/projects/all_f.py) is on github."
     ]
    },
    {
     "cell_type": "markdown",
     "metadata": {},
     "source": [
      "##Sample Results\n",
      "\n",
      "### February 2006 \n",
      "\n",
      "![Tracks](files/2006-02-02T00tracks.png)\n",
      "![Transport](files/2006-02-02T00transport.png)"
     ]
    },
    {
     "cell_type": "code",
     "collapsed": false,
     "input": [],
     "language": "python",
     "metadata": {},
     "outputs": []
    }
   ],
   "metadata": {}
  }
 ]
}